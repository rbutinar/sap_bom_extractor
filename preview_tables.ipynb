{
 "cells": [
  {
   "cell_type": "markdown",
   "metadata": {},
   "source": [
    "# Quick Preview of All Delta Tables\n",
    "This notebook displays the contents of all Delta tables in the `data/` folder."
   ]
  },
  {
   "cell_type": "code",
   "execution_count": null,
   "metadata": {},
   "outputs": [],
   "source": [
    "from pyspark.sql import SparkSession\n",
    "import os\n",
    "\n",
    "spark = SparkSession.builder \\\n        .master(\"local[*]\") \\\n        .appName(\"Delta Table Preview\") \\\n        .getOrCreate()\n",
    "\n",
    "data_dir = 'data'\n",
    "tables = [name for name in os.listdir(data_dir) if os.path.isdir(os.path.join(data_dir, name)) and not name.startswith('.') and not name.startswith('_')]\n",
    "\n",
    "for table in tables:\n",
    "    print(f'\\n=== {table} ===')\n",
    "    df = spark.read.format('delta').load(os.path.join(data_dir, table))\n",
    "    df.show(truncate=False)\n"
   ]
  }
 ],
 "metadata": {
  "kernelspec": {
   "display_name": "Python 3",
   "language": "python",
   "name": "python3"
  },
  "language_info": {
   "name": "python",
   "version": "3.x"
  }
 },
 "nbformat": 4,
 "nbformat_minor": 2
}
