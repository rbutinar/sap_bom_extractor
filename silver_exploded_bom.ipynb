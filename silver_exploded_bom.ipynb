{
 "cells": [
  {
   "cell_type": "markdown",
   "id": "4dfb0314-095f-483a-a391-bfc173b3f300",
   "metadata": {
    "microsoft": {
     "language": "python",
     "language_group": "synapse_pyspark"
    },
    "nteract": {
     "transient": {
      "deleting": false
     }
    }
   },
   "source": [
    "# **Setup**"
   ]
  },
  {
   "cell_type": "code",
   "execution_count": 16,
   "id": "fa25dc1b-6353-4738-81ef-82cdfa79d664",
   "metadata": {
    "microsoft": {
     "language": "python",
     "language_group": "synapse_pyspark"
    }
   },
   "outputs": [
    {
     "data": {
      "application/vnd.livy.statement-meta+json": {
       "execution_finish_time": "2025-05-11T16:08:42.7231506Z",
       "execution_start_time": "2025-05-11T16:08:31.928856Z",
       "livy_statement_state": "available",
       "normalized_state": "finished",
       "parent_msg_id": "ddeda303-3d65-4f63-9a89-4e7c4f964101",
       "queued_time": "2025-05-11T16:08:31.9276266Z",
       "session_id": "ad97ab4a-3284-4e83-9cca-c5dee32cdb4d",
       "session_start_time": null,
       "spark_pool": null,
       "state": "finished",
       "statement_id": 18,
       "statement_ids": [
        18
       ]
      },
      "text/plain": [
       "StatementMeta(, ad97ab4a-3284-4e83-9cca-c5dee32cdb4d, 18, Finished, Available, Finished)"
      ]
     },
     "metadata": {},
     "output_type": "display_data"
    }
   ],
   "source": [
    "from pyspark.sql.functions import col, lit, to_date\n",
    "from datetime import date\n",
    "\n",
    "# Parametri\n",
    "key_date = date(2021, 1, 1)\n",
    "plant = \"PL01\"\n",
    "\n",
    "stko = spark.read.table(\"STKO\")\n",
    "stpo = spark.read.table(\"STPO\")\n",
    "mast = spark.read.table(\"MAST\")\n",
    "\n"
   ]
  },
  {
   "cell_type": "markdown",
   "id": "8e9ab249-67f0-4dcf-8f6a-15335d03f024",
   "metadata": {
    "microsoft": {
     "language": "python",
     "language_group": "synapse_pyspark"
    },
    "nteract": {
     "transient": {
      "deleting": false
     }
    }
   },
   "source": [
    "# **Caricamento Tabelle**"
   ]
  },
  {
   "cell_type": "code",
   "execution_count": 17,
   "id": "135368a2-f459-44e2-8056-9bce801111b5",
   "metadata": {
    "microsoft": {
     "language": "python",
     "language_group": "synapse_pyspark"
    }
   },
   "outputs": [
    {
     "data": {
      "application/vnd.livy.statement-meta+json": {
       "execution_finish_time": "2025-05-11T16:08:43.5003943Z",
       "execution_start_time": "2025-05-11T16:08:42.725325Z",
       "livy_statement_state": "available",
       "normalized_state": "finished",
       "parent_msg_id": "4e3ef0bb-9f6c-4132-8e78-652822f3668c",
       "queued_time": "2025-05-11T16:08:31.9939403Z",
       "session_id": "ad97ab4a-3284-4e83-9cca-c5dee32cdb4d",
       "session_start_time": null,
       "spark_pool": null,
       "state": "finished",
       "statement_id": 19,
       "statement_ids": [
        19
       ]
      },
      "text/plain": [
       "StatementMeta(, ad97ab4a-3284-4e83-9cca-c5dee32cdb4d, 19, Finished, Available, Finished)"
      ]
     },
     "metadata": {},
     "output_type": "display_data"
    }
   ],
   "source": [
    "stko = spark.read.table(\"STKO\")\n",
    "stpo = spark.read.table(\"STPO\")\n",
    "mast = spark.read.table(\"MAST\")\n"
   ]
  },
  {
   "cell_type": "markdown",
   "id": "dfb8c7e8-5543-4b3b-bc34-f243c6f4c3fa",
   "metadata": {
    "microsoft": {
     "language": "python",
     "language_group": "synapse_pyspark"
    },
    "nteract": {
     "transient": {
      "deleting": false
     }
    }
   },
   "source": [
    "# **Filtro per key_date e plant, join iniziale**"
   ]
  },
  {
   "cell_type": "code",
   "execution_count": 18,
   "id": "3292cd8c-e32c-4e1c-b19c-26ccf255eb89",
   "metadata": {
    "microsoft": {
     "language": "python",
     "language_group": "synapse_pyspark"
    }
   },
   "outputs": [
    {
     "data": {
      "application/vnd.livy.statement-meta+json": {
       "execution_finish_time": "2025-05-11T16:08:43.75758Z",
       "execution_start_time": "2025-05-11T16:08:43.5024716Z",
       "livy_statement_state": "available",
       "normalized_state": "finished",
       "parent_msg_id": "7f651ea4-09db-4c71-8836-4dd50f962a8e",
       "queued_time": "2025-05-11T16:08:32.0555789Z",
       "session_id": "ad97ab4a-3284-4e83-9cca-c5dee32cdb4d",
       "session_start_time": null,
       "spark_pool": null,
       "state": "finished",
       "statement_id": 20,
       "statement_ids": [
        20
       ]
      },
      "text/plain": [
       "StatementMeta(, ad97ab4a-3284-4e83-9cca-c5dee32cdb4d, 20, Finished, Available, Finished)"
      ]
     },
     "metadata": {},
     "output_type": "display_data"
    }
   ],
   "source": [
    "# Join STKO + MAST (per materiale/plant)\n",
    "bom_header = mast.join(stko, on=[\"MATNR\", \"WERKS\", \"STLNR\", \"STLAL\"], how=\"inner\") \\\n",
    "    .filter((col(\"WERKS\") == plant) & (col(\"DATUV\") <= lit(key_date)))\n",
    "\n",
    "bom_level1 = bom_header.join(stpo, on=\"STLNR\", how=\"inner\") \\\n",
    "    .filter(col(\"STPO.DATUV\") <= lit(key_date)) \\\n",
    "    .select(\n",
    "        col(\"MATNR\").alias(\"ROOT_MAT\"),\n",
    "        col(\"IDNRK\").alias(\"CHILD_MAT\"),\n",
    "        col(\"MENGE\"),\n",
    "        lit(1).alias(\"LEVEL\")\n",
    "    )\n"
   ]
  },
  {
   "cell_type": "markdown",
   "id": "60873677-bbab-4db2-9286-ebb465fc87b1",
   "metadata": {
    "microsoft": {
     "language": "python",
     "language_group": "synapse_pyspark"
    },
    "nteract": {
     "transient": {
      "deleting": false
     }
    }
   },
   "source": [
    "# **Ricorsione multilivello**"
   ]
  },
  {
   "cell_type": "code",
   "execution_count": 19,
   "id": "b1e96962-2b68-48a1-a46a-a66054c53618",
   "metadata": {
    "microsoft": {
     "language": "python",
     "language_group": "synapse_pyspark"
    }
   },
   "outputs": [
    {
     "data": {
      "application/vnd.livy.statement-meta+json": {
       "execution_finish_time": "2025-05-11T16:09:08.7100463Z",
       "execution_start_time": "2025-05-11T16:08:43.7597298Z",
       "livy_statement_state": "available",
       "normalized_state": "finished",
       "parent_msg_id": "80e311af-bd24-4a2a-ab38-9ba7ec022b8a",
       "queued_time": "2025-05-11T16:08:32.1954116Z",
       "session_id": "ad97ab4a-3284-4e83-9cca-c5dee32cdb4d",
       "session_start_time": null,
       "spark_pool": null,
       "state": "finished",
       "statement_id": 21,
       "statement_ids": [
        21
       ]
      },
      "text/plain": [
       "StatementMeta(, ad97ab4a-3284-4e83-9cca-c5dee32cdb4d, 21, Finished, Available, Finished)"
      ]
     },
     "metadata": {},
     "output_type": "display_data"
    }
   ],
   "source": [
    "seen = set()\n",
    "current_level = bom_level1\n",
    "all_levels = current_level\n",
    "\n",
    "for level in range(2, 5):  # livello 2 → 4\n",
    "    filtered = current_level.filter(~col(\"CHILD_MAT\").isin(seen))\n",
    "    seen.update(filtered.select(\"CHILD_MAT\").rdd.map(lambda r: r[0]).collect())\n",
    "\n",
    "    next_level = filtered.alias(\"a\").join(\n",
    "        stpo.alias(\"b\"),\n",
    "        col(\"a.CHILD_MAT\") == col(\"b.STLNR\"),\n",
    "        how=\"inner\"\n",
    "    ).filter(col(\"b.DATUV\") <= lit(key_date)) \\\n",
    "     .select(\n",
    "        col(\"a.ROOT_MAT\"),\n",
    "        col(\"b.IDNRK\").alias(\"CHILD_MAT\"),\n",
    "        col(\"b.MENGE\"),\n",
    "        lit(level).alias(\"LEVEL\")\n",
    "     )\n",
    "\n",
    "    all_levels = all_levels.union(next_level)\n",
    "    current_level = next_level\n"
   ]
  },
  {
   "cell_type": "markdown",
   "id": "f34109a8-febb-4021-83cf-e544ab41820a",
   "metadata": {
    "microsoft": {
     "language": "python",
     "language_group": "synapse_pyspark"
    },
    "nteract": {
     "transient": {
      "deleting": false
     }
    }
   },
   "source": [
    "# **Salvataggio tabella esplosa**"
   ]
  },
  {
   "cell_type": "code",
   "execution_count": 20,
   "id": "8abfc0b3-dc96-4b77-87c0-cf9f95eaf2b1",
   "metadata": {
    "microsoft": {
     "language": "python",
     "language_group": "synapse_pyspark"
    }
   },
   "outputs": [
    {
     "data": {
      "application/vnd.livy.statement-meta+json": {
       "execution_finish_time": "2025-05-11T16:09:18.2894883Z",
       "execution_start_time": "2025-05-11T16:09:08.7123621Z",
       "livy_statement_state": "available",
       "normalized_state": "finished",
       "parent_msg_id": "2bd5b277-d6ec-487a-af04-602a27b47b51",
       "queued_time": "2025-05-11T16:08:32.3021696Z",
       "session_id": "ad97ab4a-3284-4e83-9cca-c5dee32cdb4d",
       "session_start_time": null,
       "spark_pool": null,
       "state": "finished",
       "statement_id": 22,
       "statement_ids": [
        22
       ]
      },
      "text/plain": [
       "StatementMeta(, ad97ab4a-3284-4e83-9cca-c5dee32cdb4d, 22, Finished, Available, Finished)"
      ]
     },
     "metadata": {},
     "output_type": "display_data"
    }
   ],
   "source": [
    "all_levels.write.mode(\"overwrite\").format(\"delta\").saveAsTable(\"BOM_EXPLODED\")\n"
   ]
  },
  {
   "cell_type": "markdown",
   "id": "bc9aa15d-8f3f-4480-91fc-da5ba1be19f0",
   "metadata": {
    "microsoft": {
     "language": "python",
     "language_group": "synapse_pyspark"
    },
    "nteract": {
     "transient": {
      "deleting": false
     }
    }
   },
   "source": [
    "# **Output**"
   ]
  },
  {
   "cell_type": "code",
   "execution_count": 21,
   "id": "8b2e8d4c-d021-49e2-8d3c-b6de008737b5",
   "metadata": {
    "collapsed": false,
    "microsoft": {
     "language": "python",
     "language_group": "synapse_pyspark"
    }
   },
   "outputs": [
    {
     "data": {
      "application/vnd.livy.statement-meta+json": {
       "execution_finish_time": "2025-05-11T16:09:19.7164091Z",
       "execution_start_time": "2025-05-11T16:09:18.2917994Z",
       "livy_statement_state": "available",
       "normalized_state": "finished",
       "parent_msg_id": "e35bde24-c5ec-4604-9ff5-0d8e5e13876f",
       "queued_time": "2025-05-11T16:08:32.4509206Z",
       "session_id": "ad97ab4a-3284-4e83-9cca-c5dee32cdb4d",
       "session_start_time": null,
       "spark_pool": null,
       "state": "finished",
       "statement_id": 23,
       "statement_ids": [
        23
       ]
      },
      "text/plain": [
       "StatementMeta(, ad97ab4a-3284-4e83-9cca-c5dee32cdb4d, 23, Finished, Available, Finished)"
      ]
     },
     "metadata": {},
     "output_type": "display_data"
    },
    {
     "data": {
      "application/vnd.synapse.widget-view+json": {
       "widget_id": "8185f9c2-8944-4888-9228-ace47146b6ef",
       "widget_type": "Synapse.DataFrame"
      },
      "text/plain": [
       "SynapseWidget(Synapse.DataFrame, 8185f9c2-8944-4888-9228-ace47146b6ef)"
      ]
     },
     "metadata": {},
     "output_type": "display_data"
    }
   ],
   "source": [
    "display(all_levels.orderBy(\"ROOT_MAT\", \"LEVEL\"))"
   ]
  }
 ],
 "metadata": {
  "dependencies": {
   "lakehouse": {
    "default_lakehouse": "bcc2292e-3540-4e18-8b21-e4e7982c82d2",
    "default_lakehouse_name": "lakehouse_bom",
    "default_lakehouse_workspace_id": "309c9617-0d6d-4384-a92c-5d58c6179124",
    "known_lakehouses": [
     {
      "id": "bcc2292e-3540-4e18-8b21-e4e7982c82d2"
     }
    ]
   }
  },
  "kernel_info": {
   "name": "synapse_pyspark"
  },
  "kernelspec": {
   "display_name": "Synapse PySpark",
   "language": "Python",
   "name": "synapse_pyspark"
  },
  "language_info": {
   "name": "python"
  },
  "microsoft": {
   "language": "python",
   "language_group": "synapse_pyspark",
   "ms_spell_check": {
    "ms_spell_check_language": "en"
   }
  },
  "nteract": {
   "version": "nteract-front-end@1.0.0"
  },
  "spark_compute": {
   "compute_id": "/trident/default",
   "session_options": {
    "conf": {
     "spark.synapse.nbs.session.timeout": "1200000"
    }
   }
  },
  "synapse_widget": {
   "state": {
    "8185f9c2-8944-4888-9228-ace47146b6ef": {
     "persist_state": {
      "view": {
       "chartOptions": {
        "aggregationType": "sum",
        "binsNumber": 10,
        "categoryFieldKeys": [
         "0"
        ],
        "chartType": "bar",
        "evaluatesOverAllRecords": false,
        "isStacked": false,
        "seriesFieldKeys": [
         "2"
        ],
        "wordFrequency": "-1"
       },
       "tableOptions": {},
       "type": "details",
       "viewOptionsGroup": [
        {
         "tabItems": [
          {
           "key": "0",
           "name": "Table",
           "options": {},
           "type": "table"
          }
         ]
        }
       ]
      }
     },
     "sync_state": {
      "isSummary": false,
      "language": "scala",
      "table": {
       "rows": [
        {
         "0": "MAT001",
         "1": "MAT002",
         "2": "2.0",
         "3": "1"
        },
        {
         "0": "MAT001",
         "1": "MAT006",
         "2": "1.0",
         "3": "1"
        },
        {
         "0": "MAT002",
         "1": "MAT003",
         "2": "3.0",
         "3": "1"
        },
        {
         "0": "MAT003",
         "1": "MAT004",
         "2": "1.0",
         "3": "1"
        },
        {
         "0": "MAT004",
         "1": "MAT005",
         "2": "5.0",
         "3": "1"
        }
       ],
       "schema": [
        {
         "key": "0",
         "name": "ROOT_MAT",
         "type": "string"
        },
        {
         "key": "1",
         "name": "CHILD_MAT",
         "type": "string"
        },
        {
         "key": "2",
         "name": "MENGE",
         "type": "double"
        },
        {
         "key": "3",
         "name": "LEVEL",
         "type": "int"
        }
       ],
       "truncated": false
      },
      "wranglerEntryContext": {
       "dataframeType": "pyspark"
      }
     },
     "type": "Synapse.DataFrame"
    }
   },
   "version": "0.1"
  }
 },
 "nbformat": 4,
 "nbformat_minor": 5
}
